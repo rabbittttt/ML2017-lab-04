{
 "cells": [
  {
   "cell_type": "code",
   "execution_count": 8,
   "metadata": {
    "scrolled": false
   },
   "outputs": [
    {
     "ename": "SyntaxError",
     "evalue": "invalid syntax (<ipython-input-8-0a1f21a34173>, line 1)",
     "output_type": "error",
     "traceback": [
      "\u001b[1;36m  File \u001b[1;32m\"<ipython-input-8-0a1f21a34173>\"\u001b[1;36m, line \u001b[1;32m1\u001b[0m\n\u001b[1;33m    -\u001b[0m\n\u001b[1;37m     ^\u001b[0m\n\u001b[1;31mSyntaxError\u001b[0m\u001b[1;31m:\u001b[0m invalid syntax\n"
     ]
    }
   ],
   "source": [
    "-"
   ]
  },
  {
   "cell_type": "code",
   "execution_count": 7,
   "metadata": {},
   "outputs": [
    {
     "name": "stdout",
     "output_type": "stream",
     "text": [
      "37.8946134689\n",
      "33.2518551424\n",
      "31.4239237769\n",
      "30.4013617636\n",
      "29.6995943812\n",
      "29.1964811323\n",
      "28.848218214\n",
      "28.6083708861\n",
      "28.4403078183\n",
      "28.3183151188\n",
      "28.2249142761\n",
      "28.1489355864\n",
      "28.0838345078\n",
      "28.0260820263\n",
      "27.9738743899\n",
      "27.9262801074\n",
      "27.8827583116\n",
      "27.8429213981\n",
      "27.8064337498\n",
      "27.7729769021\n"
     ]
    },
    {
     "data": {
      "image/png": "[encoded data removed]",
      "text/plain": [
       "<matplotlib.figure.Figure at 0x25a4da99dd8>"
      ]
     },
     "metadata": {},
     "output_type": "display_data"
    },
    {
     "name": "stdout",
     "output_type": "stream",
     "text": [
      "[[  4.4250826    2.54533358   3.24293674 ...,   6.19697647   6.01855987\n",
      "    6.10780847]\n",
      " [  3.69231386   4.04818176   2.73739064 ...,   8.73052459   6.61143865\n",
      "    9.19502853]\n",
      " [  4.02865052   4.43062968   2.28556363 ...,   8.13754077   7.37408121\n",
      "    7.35450991]\n",
      " ..., \n",
      " [  4.85545246   3.90186262   6.52077129 ...,  10.81266608  11.28215217\n",
      "   10.71308549]\n",
      " [  4.56938985   3.30510581   4.08817488 ...,   8.62365188   7.90072447\n",
      "    8.57376384]\n",
      " [  3.25948812   4.63413268   1.79418712 ...,   5.45038481   3.85857819\n",
      "    4.48318455]]\n"
     ]
    }
   ],
   "source": [
    "import numpy as np\n",
    "from scipy.sparse import csc_matrix\n",
    "import matplotlib.pyplot as plt\n",
    "from numpy import random\n",
    "import warnings\n",
    "warnings.filterwarnings(\"ignore\")\n",
    "def load(path):\n",
    "    with open(path) as f0:\n",
    "        user = []\n",
    "        item = []\n",
    "        rate = []\n",
    "        for i in f0:        \n",
    "             temp = i.split()\n",
    "             user.append(temp[0])\n",
    "             item.append(temp[1])\n",
    "             rate.append(temp[2])\n",
    "    return np.array(user).astype(float),np.array(item).astype(float),np.array(rate).astype(float)\n",
    "\n",
    "def rate_csc_matrix():\n",
    "    path_base = \"./u1.base\"\n",
    "    path_test = \"./u1.test\"\n",
    "    user_base,item_base,rate_base = load(path_base)\n",
    "    user_test,item_test,rate_test = load(path_test)\n",
    "    rate_matrix_base = csc_matrix((rate_base, (user_base, item_base)), shape=(944, 1683)).toarray()\n",
    "    rate_matrix_test = csc_matrix((rate_test, (user_test, item_test)), shape=(944, 1683)).toarray()\n",
    "    u1_base = np.delete(rate_matrix_base,0,axis=0)\n",
    "    u1_base = np.delete(u1_base,0,axis=1)\n",
    "    u1_test = np.delete(rate_matrix_test,0,axis=0)\n",
    "    u1_test = np.delete(u1_test,0,axis=1)\n",
    "    return u1_base,u1_test\n",
    "\n",
    "def loss(r, p, q, beta):\n",
    "    L0 = np.sum((r - np.dot(p, q))**2)\n",
    "    L1 = beta * (np.sum(p**2) + np.sum(q**2))\n",
    "    loss_ = (L0 + L1) / (r.shape[0] * r.shape[1])\n",
    "    return loss_\n",
    "\n",
    "def grad(p, q, K, m, n, error, alpha, beta):   \n",
    "    for k in range(K):\n",
    "        p[m, k] = p[m, k] + (2 * error * q[k, n] - beta * p[m, k]) * alpha\n",
    "        q[k, n] = q[k, n] + (2 * error * p[m, k] - beta * q[k, n]) * alpha\n",
    "    return p,q\n",
    "\n",
    "def Recommend(base, test, K):\n",
    "    alpha = 0.005\n",
    "    beta = 0.02\n",
    "    iteration = 20\n",
    "    p = np.random.rand(base.shape[0], K)\n",
    "    q = np.random.rand(K, base.shape[1])\n",
    "    loss_record = []\n",
    "    loss_ = loss(test, p, q, beta)\n",
    "    loss_record.append(loss_)\n",
    "    for i in range(iteration):\n",
    "        for m in range (base.shape[0]):\n",
    "            for n in range (base.shape[1]):\n",
    "                if base[m][n] > 0:\n",
    "                    error = base[m][n] - np.dot(p[m,:], q[:,n])\n",
    "                    p,q = grad(p, q, K, m, n, error, alpha, beta);\n",
    "        loss_ = loss(test, p, q, beta)\n",
    "        loss_record.append(loss_)\n",
    "        print(loss_)\n",
    "    return p, q, loss_record\n",
    "\n",
    "if __name__ == \"__main__\":\n",
    "    u1_base,u1_test = rate_csc_matrix();\n",
    "    K = 100 \n",
    "    p, q, loss_record = Recommend(u1_base, u1_test, K)\n",
    "    plt.xlabel('Iterations')\n",
    "    plt.ylabel('Loss')\n",
    "    plt.plot(loss_record)\n",
    "    plt.show()\n",
    "    r=np.dot(p,q)\n",
    "    print(r)"
   ]
  },
  {
   "cell_type": "code",
   "execution_count": null,
   "metadata": {
    "collapsed": true
   },
   "outputs": [],
   "source": []
  }
 ],
 "metadata": {
  "kernelspec": {
   "display_name": "Python 3",
   "language": "python",
   "name": "python3"
  },
  "language_info": {
   "codemirror_mode": {
    "name": "ipython",
    "version": 3
   },
   "file_extension": ".py",
   "mimetype": "text/x-python",
   "name": "python",
   "nbconvert_exporter": "python",
   "pygments_lexer": "ipython3",
   "version": "3.6.3"
  }
 },
 "nbformat": 4,
 "nbformat_minor": 2
}
